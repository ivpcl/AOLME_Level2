{
  "nbformat": 4,
  "nbformat_minor": 0,
  "metadata": {
    "colab": {
      "name": "gen_spr.ipynb",
      "provenance": [],
      "collapsed_sections": []
    },
    "kernelspec": {
      "name": "python3",
      "display_name": "Python 3"
    },
    "language_info": {
      "name": "python"
    },
    "widgets": {
      "application/vnd.jupyter.widget-state+json": {
        "06f8ebed12a745f7b5b7031451e3f3ca": {
          "model_module": "@jupyter-widgets/controls",
          "model_name": "IntSliderModel",
          "model_module_version": "1.5.0",
          "state": {
            "_view_name": "IntSliderView",
            "style": "IPY_MODEL_f3acaffe309346afaa77308e5f2fe892",
            "_dom_classes": [],
            "description": "MinRow:",
            "step": 1,
            "_model_name": "IntSliderModel",
            "orientation": "horizontal",
            "max": 256,
            "_view_module": "@jupyter-widgets/controls",
            "_model_module_version": "1.5.0",
            "value": 0,
            "_view_count": null,
            "disabled": false,
            "_view_module_version": "1.5.0",
            "min": 0,
            "continuous_update": true,
            "readout_format": "d",
            "description_tooltip": null,
            "readout": true,
            "_model_module": "@jupyter-widgets/controls",
            "layout": "IPY_MODEL_3ff9a138797f484c8144ade94a87594a"
          }
        },
        "f3acaffe309346afaa77308e5f2fe892": {
          "model_module": "@jupyter-widgets/controls",
          "model_name": "SliderStyleModel",
          "model_module_version": "1.5.0",
          "state": {
            "_view_name": "StyleView",
            "handle_color": null,
            "_model_name": "SliderStyleModel",
            "description_width": "",
            "_view_module": "@jupyter-widgets/base",
            "_model_module_version": "1.5.0",
            "_view_count": null,
            "_view_module_version": "1.2.0",
            "_model_module": "@jupyter-widgets/controls"
          }
        },
        "3ff9a138797f484c8144ade94a87594a": {
          "model_module": "@jupyter-widgets/base",
          "model_name": "LayoutModel",
          "model_module_version": "1.2.0",
          "state": {
            "_view_name": "LayoutView",
            "grid_template_rows": null,
            "right": null,
            "justify_content": null,
            "_view_module": "@jupyter-widgets/base",
            "overflow": null,
            "_model_module_version": "1.2.0",
            "_view_count": null,
            "flex_flow": null,
            "width": null,
            "min_width": null,
            "border": null,
            "align_items": null,
            "bottom": null,
            "_model_module": "@jupyter-widgets/base",
            "top": null,
            "grid_column": null,
            "overflow_y": null,
            "overflow_x": null,
            "grid_auto_flow": null,
            "grid_area": null,
            "grid_template_columns": null,
            "flex": null,
            "_model_name": "LayoutModel",
            "justify_items": null,
            "grid_row": null,
            "max_height": null,
            "align_content": null,
            "visibility": null,
            "align_self": null,
            "height": null,
            "min_height": null,
            "padding": null,
            "grid_auto_rows": null,
            "grid_gap": null,
            "max_width": null,
            "order": null,
            "_view_module_version": "1.2.0",
            "grid_template_areas": null,
            "object_position": null,
            "object_fit": null,
            "grid_auto_columns": null,
            "margin": null,
            "display": null,
            "left": null
          }
        },
        "77174543bc8645eea52a0467951e5669": {
          "model_module": "@jupyter-widgets/controls",
          "model_name": "IntSliderModel",
          "model_module_version": "1.5.0",
          "state": {
            "_view_name": "IntSliderView",
            "style": "IPY_MODEL_dfd4ac75b2a44a40a02a811351f598ed",
            "_dom_classes": [],
            "description": "MaxRow:",
            "step": 1,
            "_model_name": "IntSliderModel",
            "orientation": "horizontal",
            "max": 256,
            "_view_module": "@jupyter-widgets/controls",
            "_model_module_version": "1.5.0",
            "value": 50,
            "_view_count": null,
            "disabled": false,
            "_view_module_version": "1.5.0",
            "min": 0,
            "continuous_update": true,
            "readout_format": "d",
            "description_tooltip": null,
            "readout": true,
            "_model_module": "@jupyter-widgets/controls",
            "layout": "IPY_MODEL_7cbf829c89d44ce8a730bbebd15e9117"
          }
        },
        "dfd4ac75b2a44a40a02a811351f598ed": {
          "model_module": "@jupyter-widgets/controls",
          "model_name": "SliderStyleModel",
          "model_module_version": "1.5.0",
          "state": {
            "_view_name": "StyleView",
            "handle_color": null,
            "_model_name": "SliderStyleModel",
            "description_width": "",
            "_view_module": "@jupyter-widgets/base",
            "_model_module_version": "1.5.0",
            "_view_count": null,
            "_view_module_version": "1.2.0",
            "_model_module": "@jupyter-widgets/controls"
          }
        },
        "7cbf829c89d44ce8a730bbebd15e9117": {
          "model_module": "@jupyter-widgets/base",
          "model_name": "LayoutModel",
          "model_module_version": "1.2.0",
          "state": {
            "_view_name": "LayoutView",
            "grid_template_rows": null,
            "right": null,
            "justify_content": null,
            "_view_module": "@jupyter-widgets/base",
            "overflow": null,
            "_model_module_version": "1.2.0",
            "_view_count": null,
            "flex_flow": null,
            "width": null,
            "min_width": null,
            "border": null,
            "align_items": null,
            "bottom": null,
            "_model_module": "@jupyter-widgets/base",
            "top": null,
            "grid_column": null,
            "overflow_y": null,
            "overflow_x": null,
            "grid_auto_flow": null,
            "grid_area": null,
            "grid_template_columns": null,
            "flex": null,
            "_model_name": "LayoutModel",
            "justify_items": null,
            "grid_row": null,
            "max_height": null,
            "align_content": null,
            "visibility": null,
            "align_self": null,
            "height": null,
            "min_height": null,
            "padding": null,
            "grid_auto_rows": null,
            "grid_gap": null,
            "max_width": null,
            "order": null,
            "_view_module_version": "1.2.0",
            "grid_template_areas": null,
            "object_position": null,
            "object_fit": null,
            "grid_auto_columns": null,
            "margin": null,
            "display": null,
            "left": null
          }
        },
        "84ae475dffe2480f94a8fc0ff29690ae": {
          "model_module": "@jupyter-widgets/controls",
          "model_name": "IntSliderModel",
          "model_module_version": "1.5.0",
          "state": {
            "_view_name": "IntSliderView",
            "style": "IPY_MODEL_5371b85968f6455cb4eb1339bfc18f39",
            "_dom_classes": [],
            "description": "MinCol:",
            "step": 1,
            "_model_name": "IntSliderModel",
            "orientation": "horizontal",
            "max": 254,
            "_view_module": "@jupyter-widgets/controls",
            "_model_module_version": "1.5.0",
            "value": 141,
            "_view_count": null,
            "disabled": false,
            "_view_module_version": "1.5.0",
            "min": 0,
            "continuous_update": true,
            "readout_format": "d",
            "description_tooltip": null,
            "readout": true,
            "_model_module": "@jupyter-widgets/controls",
            "layout": "IPY_MODEL_e46f487eaacf49a48fa67c3a3920a863"
          }
        },
        "5371b85968f6455cb4eb1339bfc18f39": {
          "model_module": "@jupyter-widgets/controls",
          "model_name": "SliderStyleModel",
          "model_module_version": "1.5.0",
          "state": {
            "_view_name": "StyleView",
            "handle_color": null,
            "_model_name": "SliderStyleModel",
            "description_width": "",
            "_view_module": "@jupyter-widgets/base",
            "_model_module_version": "1.5.0",
            "_view_count": null,
            "_view_module_version": "1.2.0",
            "_model_module": "@jupyter-widgets/controls"
          }
        },
        "e46f487eaacf49a48fa67c3a3920a863": {
          "model_module": "@jupyter-widgets/base",
          "model_name": "LayoutModel",
          "model_module_version": "1.2.0",
          "state": {
            "_view_name": "LayoutView",
            "grid_template_rows": null,
            "right": null,
            "justify_content": null,
            "_view_module": "@jupyter-widgets/base",
            "overflow": null,
            "_model_module_version": "1.2.0",
            "_view_count": null,
            "flex_flow": null,
            "width": null,
            "min_width": null,
            "border": null,
            "align_items": null,
            "bottom": null,
            "_model_module": "@jupyter-widgets/base",
            "top": null,
            "grid_column": null,
            "overflow_y": null,
            "overflow_x": null,
            "grid_auto_flow": null,
            "grid_area": null,
            "grid_template_columns": null,
            "flex": null,
            "_model_name": "LayoutModel",
            "justify_items": null,
            "grid_row": null,
            "max_height": null,
            "align_content": null,
            "visibility": null,
            "align_self": null,
            "height": null,
            "min_height": null,
            "padding": null,
            "grid_auto_rows": null,
            "grid_gap": null,
            "max_width": null,
            "order": null,
            "_view_module_version": "1.2.0",
            "grid_template_areas": null,
            "object_position": null,
            "object_fit": null,
            "grid_auto_columns": null,
            "margin": null,
            "display": null,
            "left": null
          }
        },
        "10ae59b39fd94c18a6b20aeddb686bc0": {
          "model_module": "@jupyter-widgets/controls",
          "model_name": "IntSliderModel",
          "model_module_version": "1.5.0",
          "state": {
            "_view_name": "IntSliderView",
            "style": "IPY_MODEL_575ce2776c6e4fbc8df74c0052342ff4",
            "_dom_classes": [],
            "description": "MaxCol:",
            "step": 1,
            "_model_name": "IntSliderModel",
            "orientation": "horizontal",
            "max": 254,
            "_view_module": "@jupyter-widgets/controls",
            "_model_module_version": "1.5.0",
            "value": 182,
            "_view_count": null,
            "disabled": false,
            "_view_module_version": "1.5.0",
            "min": 0,
            "continuous_update": true,
            "readout_format": "d",
            "description_tooltip": null,
            "readout": true,
            "_model_module": "@jupyter-widgets/controls",
            "layout": "IPY_MODEL_c997394ea5794729871199b3060c30d6"
          }
        },
        "575ce2776c6e4fbc8df74c0052342ff4": {
          "model_module": "@jupyter-widgets/controls",
          "model_name": "SliderStyleModel",
          "model_module_version": "1.5.0",
          "state": {
            "_view_name": "StyleView",
            "handle_color": null,
            "_model_name": "SliderStyleModel",
            "description_width": "",
            "_view_module": "@jupyter-widgets/base",
            "_model_module_version": "1.5.0",
            "_view_count": null,
            "_view_module_version": "1.2.0",
            "_model_module": "@jupyter-widgets/controls"
          }
        },
        "c997394ea5794729871199b3060c30d6": {
          "model_module": "@jupyter-widgets/base",
          "model_name": "LayoutModel",
          "model_module_version": "1.2.0",
          "state": {
            "_view_name": "LayoutView",
            "grid_template_rows": null,
            "right": null,
            "justify_content": null,
            "_view_module": "@jupyter-widgets/base",
            "overflow": null,
            "_model_module_version": "1.2.0",
            "_view_count": null,
            "flex_flow": null,
            "width": null,
            "min_width": null,
            "border": null,
            "align_items": null,
            "bottom": null,
            "_model_module": "@jupyter-widgets/base",
            "top": null,
            "grid_column": null,
            "overflow_y": null,
            "overflow_x": null,
            "grid_auto_flow": null,
            "grid_area": null,
            "grid_template_columns": null,
            "flex": null,
            "_model_name": "LayoutModel",
            "justify_items": null,
            "grid_row": null,
            "max_height": null,
            "align_content": null,
            "visibility": null,
            "align_self": null,
            "height": null,
            "min_height": null,
            "padding": null,
            "grid_auto_rows": null,
            "grid_gap": null,
            "max_width": null,
            "order": null,
            "_view_module_version": "1.2.0",
            "grid_template_areas": null,
            "object_position": null,
            "object_fit": null,
            "grid_auto_columns": null,
            "margin": null,
            "display": null,
            "left": null
          }
        }
      }
    }
  },
  "cells": [
    {
      "cell_type": "code",
      "metadata": {
        "colab": {
          "base_uri": "https://localhost:8080/"
        },
        "id": "Wv3gSAhMc6Bk",
        "outputId": "1501b1f5-5ff7-41d3-a439-f8767e3e28ab"
      },
      "source": [
        "!wget https://raw.githubusercontent.com/ivpcl/AOLME_Level2/main/Python-All-Sessions/roipoly.py\n",
        "!wget https://raw.githubusercontent.com/ivpcl/AOLME_Level2/main/Python-All-Sessions/clock.jpg\n",
        "!wget https://raw.githubusercontent.com/ivpcl/AOLME_Level2/main/Python-All-Sessions/aolme2.py"
      ],
      "execution_count": 1,
      "outputs": [
        {
          "output_type": "stream",
          "text": [
            "--2021-08-12 23:38:15--  https://raw.githubusercontent.com/ivpcl/AOLME_Level2/main/Python-All-Sessions/roipoly.py\n",
            "Resolving raw.githubusercontent.com (raw.githubusercontent.com)... 185.199.111.133, 185.199.109.133, 185.199.110.133, ...\n",
            "Connecting to raw.githubusercontent.com (raw.githubusercontent.com)|185.199.111.133|:443... connected.\n",
            "HTTP request sent, awaiting response... 200 OK\n",
            "Length: 5372 (5.2K) [text/plain]\n",
            "Saving to: ‘roipoly.py.3’\n",
            "\n",
            "\rroipoly.py.3          0%[                    ]       0  --.-KB/s               \rroipoly.py.3        100%[===================>]   5.25K  --.-KB/s    in 0s      \n",
            "\n",
            "2021-08-12 23:38:15 (60.4 MB/s) - ‘roipoly.py.3’ saved [5372/5372]\n",
            "\n",
            "--2021-08-12 23:38:16--  https://raw.githubusercontent.com/ivpcl/AOLME_Level2/main/Python-All-Sessions/clock.jpg\n",
            "Resolving raw.githubusercontent.com (raw.githubusercontent.com)... 185.199.108.133, 185.199.109.133, 185.199.110.133, ...\n",
            "Connecting to raw.githubusercontent.com (raw.githubusercontent.com)|185.199.108.133|:443... connected.\n",
            "HTTP request sent, awaiting response... 200 OK\n",
            "Length: 72292 (71K) [image/jpeg]\n",
            "Saving to: ‘clock.jpg.3’\n",
            "\n",
            "clock.jpg.3         100%[===================>]  70.60K  --.-KB/s    in 0.007s  \n",
            "\n",
            "2021-08-12 23:38:16 (9.67 MB/s) - ‘clock.jpg.3’ saved [72292/72292]\n",
            "\n",
            "--2021-08-12 23:38:16--  https://raw.githubusercontent.com/ivpcl/AOLME_Level2/main/Python-All-Sessions/aolme2.py\n",
            "Resolving raw.githubusercontent.com (raw.githubusercontent.com)... 185.199.108.133, 185.199.109.133, 185.199.110.133, ...\n",
            "Connecting to raw.githubusercontent.com (raw.githubusercontent.com)|185.199.108.133|:443... connected.\n",
            "HTTP request sent, awaiting response... 200 OK\n",
            "Length: 57877 (57K) [text/plain]\n",
            "Saving to: ‘aolme2.py.3’\n",
            "\n",
            "aolme2.py.3         100%[===================>]  56.52K  --.-KB/s    in 0.007s  \n",
            "\n",
            "2021-08-12 23:38:16 (8.19 MB/s) - ‘aolme2.py.3’ saved [57877/57877]\n",
            "\n"
          ],
          "name": "stdout"
        }
      ]
    },
    {
      "cell_type": "code",
      "metadata": {
        "colab": {
          "base_uri": "https://localhost:8080/",
          "height": 286
        },
        "id": "YbyAlva1cyMO",
        "outputId": "bc1c2818-0dfd-467d-8361-c62262d31821"
      },
      "source": [
        "import sys\n",
        "import numpy as np\n",
        "import pylab as pl\n",
        "import cv2\n",
        "from roipoly import roipoly \n",
        "import pickle \n",
        "import aolme2 # Load the library\n",
        "\n",
        "\n",
        "# import image to convert into ROI\n",
        "imgName = 'clock.jpg'   \n",
        "\n",
        "objectImage=cv2.imread(imgName)\n",
        "img = cv2.cvtColor(objectImage, cv2.COLOR_RGB2GRAY )\n",
        "\n",
        "# show the image\n",
        "pl.figure()\n",
        "pl.imshow(img, interpolation='nearest', cmap=\"gray\")\n",
        "pl.colorbar()\n",
        "\n",
        "# extract rectangular boundary region of the irregular region\n",
        "(row, col) = img.shape\n",
        "print(\"Row ={}, Column ={}\".format(row, col))\n"
      ],
      "execution_count": 2,
      "outputs": [
        {
          "output_type": "stream",
          "text": [
            "Row =257, Column =255\n"
          ],
          "name": "stdout"
        },
        {
          "output_type": "display_data",
          "data": {
            "image/png": "[encoded data removed]",
            "text/plain": [
              "<Figure size 432x288 with 2 Axes>"
            ]
          },
          "metadata": {
            "tags": [],
            "needs_background": "light"
          }
        }
      ]
    },
    {
      "cell_type": "code",
      "metadata": {
        "colab": {
          "base_uri": "https://localhost:8080/",
          "height": 139,
          "referenced_widgets": [
            "06f8ebed12a745f7b5b7031451e3f3ca",
            "f3acaffe309346afaa77308e5f2fe892",
            "3ff9a138797f484c8144ade94a87594a",
            "77174543bc8645eea52a0467951e5669",
            "dfd4ac75b2a44a40a02a811351f598ed",
            "7cbf829c89d44ce8a730bbebd15e9117",
            "84ae475dffe2480f94a8fc0ff29690ae",
            "5371b85968f6455cb4eb1339bfc18f39",
            "e46f487eaacf49a48fa67c3a3920a863",
            "10ae59b39fd94c18a6b20aeddb686bc0",
            "575ce2776c6e4fbc8df74c0052342ff4",
            "c997394ea5794729871199b3060c30d6"
          ]
        },
        "id": "WvK9qkv9HAU4",
        "cellView": "form",
        "outputId": "520a1b49-8e8c-4247-d08c-4701848166c2"
      },
      "source": [
        "#@title Select ROI\n",
        "import ipywidgets as widgets\n",
        "min_row = widgets.IntSlider(description='MinRow:', value=0, max=row-1)\n",
        "max_row = widgets.IntSlider(description='MaxRow:', value=150, max=row-1)\n",
        "min_col = widgets.IntSlider(description='MinCol:', value=0, max=col-1)\n",
        "max_col = widgets.IntSlider(description='MaxCol:', value=100, max=col-1)\n",
        "display(min_row, max_row, min_col, max_col)\n",
        "\n",
        "\n",
        "\n",
        "\n",
        "\n",
        "\n"
      ],
      "execution_count": 3,
      "outputs": [
        {
          "output_type": "display_data",
          "data": {
            "application/vnd.jupyter.widget-view+json": {
              "model_id": "06f8ebed12a745f7b5b7031451e3f3ca",
              "version_minor": 0,
              "version_major": 2
            },
            "text/plain": [
              "IntSlider(value=0, description='MinRow:', max=256)"
            ]
          },
          "metadata": {
            "tags": []
          }
        },
        {
          "output_type": "display_data",
          "data": {
            "application/vnd.jupyter.widget-view+json": {
              "model_id": "77174543bc8645eea52a0467951e5669",
              "version_minor": 0,
              "version_major": 2
            },
            "text/plain": [
              "IntSlider(value=150, description='MaxRow:', max=256)"
            ]
          },
          "metadata": {
            "tags": []
          }
        },
        {
          "output_type": "display_data",
          "data": {
            "application/vnd.jupyter.widget-view+json": {
              "model_id": "84ae475dffe2480f94a8fc0ff29690ae",
              "version_minor": 0,
              "version_major": 2
            },
            "text/plain": [
              "IntSlider(value=0, description='MinCol:', max=254)"
            ]
          },
          "metadata": {
            "tags": []
          }
        },
        {
          "output_type": "display_data",
          "data": {
            "application/vnd.jupyter.widget-view+json": {
              "model_id": "10ae59b39fd94c18a6b20aeddb686bc0",
              "version_minor": 0,
              "version_major": 2
            },
            "text/plain": [
              "IntSlider(value=100, description='MaxCol:', max=254)"
            ]
          },
          "metadata": {
            "tags": []
          }
        }
      ]
    },
    {
      "cell_type": "code",
      "metadata": {
        "colab": {
          "base_uri": "https://localhost:8080/",
          "height": 400
        },
        "cellView": "form",
        "id": "R_pHszdctZtj",
        "outputId": "4914c3fe-8d08-411a-901e-44deec3b33e8"
      },
      "source": [
        "#@title Output\n",
        "# extract rectangular boundary region of the irregular region\n",
        "r_start = min_row.value\n",
        "r_end   = max_row.value\n",
        "c_start = min_col.value\n",
        "c_end   = max_col.value\n",
        "r       = [r_start, c_start, r_end, c_end]\n",
        "\n",
        "ret,maskBool = cv2.threshold(img,-10,255,cv2.THRESH_BINARY)\n",
        "b  = maskBool.astype(int)*255\n",
        "roiMask=b.astype(np.uint8)\n",
        "\n",
        "# Extract the sprite name without the extension of the image\n",
        "SpriteName = str(imgName.rsplit(\".\")[0])\n",
        "\n",
        "# Generate a single list with all the information needed in AOLME2 library\n",
        "SpriteInfo = [SpriteName,objectImage,roiMask,r ]\n",
        "\n",
        "\n",
        "\n",
        "# Store in a pickle file to be retrieved by AOLME2 library\n",
        "with open('{}.pickle'.format(SpriteName), 'wb') as f:\n",
        "            pickle.dump(SpriteInfo, f, pickle.HIGHEST_PROTOCOL)\n",
        "\n",
        "print(\"Wrote {} sprite in pickle file \\n\".format(SpriteName))\n",
        "\n",
        "my_sprite = aolme2.spr()       # Constructor\n",
        "my_sprite.set_sprite(\"clock\")  # Method: load file\n",
        "my_sprite.show('Clock sprite') # Method: show()\n"
      ],
      "execution_count": 9,
      "outputs": [
        {
          "output_type": "stream",
          "text": [
            "Wrote clock sprite in pickle file \n",
            "\n",
            "set_sprite(sprite_name=clock)\n",
            "Reading file =  clock.pickle\n",
            "(257, 255)\n",
            "(50, 41)\n",
            "50 41\n"
          ],
          "name": "stdout"
        },
        {
          "output_type": "display_data",
          "data": {
            "image/png": "[encoded data removed]",
            "text/plain": [
              "<Figure size 432x288 with 1 Axes>"
            ]
          },
          "metadata": {
            "tags": [],
            "needs_background": "light"
          }
        }
      ]
    }
  ]
}