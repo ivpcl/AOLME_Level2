{
  "nbformat": 4,
  "nbformat_minor": 0,
  "metadata": {
    "colab": {
      "name": "loopsEx_debugging.ipynb",
      "provenance": [],
      "collapsed_sections": []
    },
    "kernelspec": {
      "name": "python3",
      "display_name": "Python 3"
    },
    "language_info": {
      "name": "python"
    }
  },
  "cells": [
    {
      "cell_type": "code",
      "metadata": {
        "id": "VU_FRT9S4vFQ"
      },
      "source": [
        "import pdb"
      ],
      "execution_count": null,
      "outputs": []
    },
    {
      "cell_type": "code",
      "metadata": {
        "id": "Ex3lU1CO5CwA"
      },
      "source": [
        "def loopsEx():\n",
        "  pdb.set_trace()\n",
        "  for row in range(100,0,-10):\n",
        "      print(\"row=\", row)\n",
        "      for col in range(100,120,10):\n",
        "          #pdb.set_trace() \n",
        "          print(\"col=\", col)\n",
        "          print(\"(row=\", row, \", col=\", col, \")\")\n",
        "          if  (row >100):\n",
        "              print(\"100\")\n",
        "          else:\n",
        "              print(\"0\")"
      ],
      "execution_count": null,
      "outputs": []
    },
    {
      "cell_type": "code",
      "metadata": {
        "id": "itN1vIUwBm5v"
      },
      "source": [
        "loopsEx()"
      ],
      "execution_count": null,
      "outputs": []
    }
  ]
}