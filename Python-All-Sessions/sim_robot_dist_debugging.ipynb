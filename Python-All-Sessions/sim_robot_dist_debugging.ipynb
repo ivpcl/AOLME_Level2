{
  "nbformat": 4,
  "nbformat_minor": 0,
  "metadata": {
    "colab": {
      "name": "sim_robot_dist_debugging.ipynb",
      "provenance": [],
      "collapsed_sections": []
    },
    "kernelspec": {
      "name": "python3",
      "display_name": "Python 3"
    },
    "language_info": {
      "name": "python"
    }
  },
  "cells": [
    {
      "cell_type": "code",
      "metadata": {
        "id": "p8VbfPN_9cpz"
      },
      "source": [
        "import pdb "
      ],
      "execution_count": 1,
      "outputs": []
    },
    {
      "cell_type": "code",
      "metadata": {
        "id": "q3o8edxk12rK"
      },
      "source": [
        "def sim_robot_dist():\n",
        "  pdb.set_trace() \n",
        "  print(\"Distance Sensor Simulation\")\n",
        "\n",
        "  dist = 100  \n",
        "  print(\"Assume that Robot distance sensor gives \", dist, \" mm.\")\n",
        "\n",
        "  if (dist > 10):     \n",
        "      print(\"dist = \", dist, \"mm => robot is FAR AWAY.\")\n",
        "  else:\n",
        "      print(\"dist = \", dist, \"mm => robot is CLOSE.\")\n",
        "\n",
        "  print(\" \")\n",
        "  print(\"Experiment with different dist values ...\")\n"
      ],
      "execution_count": 2,
      "outputs": []
    },
    {
      "cell_type": "code",
      "metadata": {
        "id": "IB-znfPp_D_i"
      },
      "source": [
        "sim_robot_dist()"
      ],
      "execution_count": null,
      "outputs": []
    }
  ]
}