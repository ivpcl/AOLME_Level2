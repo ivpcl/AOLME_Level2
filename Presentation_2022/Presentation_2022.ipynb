{
  "nbformat": 4,
  "nbformat_minor": 0,
  "metadata": {
    "colab": {
      "name": "Presentation_2022.ipynb",
      "provenance": [],
      "collapsed_sections": [],
      "authorship_tag": "ABX9TyOWa9Ommb6y+BFkuUd6O46w",
      "include_colab_link": true
    },
    "kernelspec": {
      "name": "python3",
      "display_name": "Python 3"
    },
    "language_info": {
      "name": "python"
    }
  },
  "cells": [
    {
      "cell_type": "markdown",
      "metadata": {
        "id": "view-in-github",
        "colab_type": "text"
      },
      "source": [
        "<a href=\"https://colab.research.google.com/github/ivpcl/AOLME_Level2/blob/main/Presentation_2022/Presentation_2022.ipynb\" target=\"_parent\"><img src=\"https://colab.research.google.com/assets/colab-badge.svg\" alt=\"Open In Colab\"/></a>"
      ]
    },
    {
      "cell_type": "markdown",
      "source": [
        "## **Level 1**\n",
        "[ESTRELLA](https://aolme.unm.edu/WebsiteModel/template/index.html) website\n",
        "\n",
        "\n",
        "**Session 2**\n",
        "\n",
        "1) 2.1: [Session 2-2.1.ipynb](https://colab.research.google.com/github/ivpcl/REVISION-3-Level-1-2019-English/blob/main/Session%202/To%20be%20implemented/Session%202-2.1.ipynb)\n",
        "\n",
        "2) 2.2: [Session 2-2.2.ipynb](https://colab.research.google.com/github/ivpcl/REVISION-3-Level-1-2019-English/blob/main/Session%202/To%20be%20implemented/Session%202-2.2.ipynb)\n",
        "\n",
        "3) 2.3: [Session 2-2.3.ipynb](https://colab.research.google.com/github/ivpcl/REVISION-3-Level-1-2019-English/blob/main/Session%202/To%20be%20implemented/Session%202-2.3.ipynb)\n",
        "\n",
        "\n",
        "\n",
        "**Session 3**\n",
        "\n",
        "1) 3.1: [Session 3-1-3.1.ipynb](https://colab.research.google.com/github/ivpcl/REVISION-3-Level-1-2019-English/blob/main/Session%203/To%20be%20implemented/Session%203-1-3.1.ipynb)\n",
        "\n",
        "2) 3.2: [Session 3-1-3.2.ipynb](https://colab.research.google.com/github/ivpcl/REVISION-3-Level-1-2019-English/blob/main/Session%203/To%20be%20implemented/Session%203-1-3.2.ipynb)\n",
        "\n",
        "3) Random guess 3.3: [Session 3-1-3.3.ipynb](https://colab.research.google.com/github/ivpcl/REVISION-3-Level-1-2019-English/blob/main/Session%203/To%20be%20implemented/Session%203-1-3.3.ipynb)"
      ],
      "metadata": {
        "id": "oK2l5xeVv3lI"
      }
    },
    {
      "cell_type": "markdown",
      "source": [
        "[**Binary calculator**](https://ece46medsrv.ece.unm.edu/docs/L1S4/binary2.html)\n",
        "\n",
        "\n",
        "**Linear function** \n",
        "[LinearPlot.ipynb](https://colab.research.google.com/drive/1C5--4tqi7SxMMPyKugegxO97Ar9IUWDP)\n",
        "\n"
      ],
      "metadata": {
        "id": "nw0Ggz4GvT_1"
      }
    },
    {
      "cell_type": "markdown",
      "source": [
        "## **Level 2**\n",
        "[**Level_2.ipynb**](https://colab.research.google.com/github/ivpcl/AOLME_Level2/blob/main/Presentation_2022/Level_2.ipynb)"
      ],
      "metadata": {
        "id": "HpuxMtwFzSwF"
      }
    },
    {
      "cell_type": "markdown",
      "source": [
        "**Color detection**: [ColorDet.ipynb](https://colab.research.google.com/github/ivpcl/AOLME_Level2/blob/main/Presentation_2022/ColorDet.ipynb)"
      ],
      "metadata": {
        "id": "OSHr_hmkzxPp"
      }
    }
  ]
}