{
  "nbformat": 4,
  "nbformat_minor": 0,
  "metadata": {
    "colab": {
      "name": "APS_2022.ipynb",
      "provenance": [],
      "collapsed_sections": [],
      "authorship_tag": "ABX9TyMWU/+zrBr24Z5qiTyFcir7",
      "include_colab_link": true
    },
    "kernelspec": {
      "name": "python3",
      "display_name": "Python 3"
    },
    "language_info": {
      "name": "python"
    }
  },
  "cells": [
    {
      "cell_type": "markdown",
      "metadata": {
        "id": "view-in-github",
        "colab_type": "text"
      },
      "source": [
        "<a href=\"https://colab.research.google.com/github/ivpcl/AOLME_Level2/blob/main/Presentation_2022/APS_2022.ipynb\" target=\"_parent\"><img src=\"https://colab.research.google.com/assets/colab-badge.svg\" alt=\"Open In Colab\"/></a>"
      ]
    },
    {
      "cell_type": "markdown",
      "source": [
        "\n",
        "##**Student projects:**\n",
        "\n",
        "1. [Little Alien](https://colab.research.google.com/github/ivpcl/AOLME_Level2/blob/main/Presentation_2022/finalProjectLittleAlien.ipynb)\n",
        "\n",
        "2. [Avengers](https://colab.research.google.com/github/ivpcl/AOLME_Level2/blob/main/Presentation_2022/AVENGERSFINAL.ipynb)\n",
        "\n",
        "**Linear function** \n",
        "[Linear Plots](https://colab.research.google.com/github/ivpcl/AOLME_Level2/blob/main/Presentation_2022/LinearPlot.ipynb)\n",
        "\n",
        "1. y=m*x+b: explore slope and intercept\n",
        "2. Solving a system of two linear equations\n",
        "\n",
        "\n",
        "\n",
        "\n",
        "[**Geometry**](https://colab.research.google.com/github/ivpcl/AOLME_Level2/blob/main/Presentation_2022/Level_2.ipynb)\n",
        "\n",
        "1. Plot a pixel using coordinates\n",
        "2. Plot a square using coordinates\n",
        "3. Dilate a square using coordinates\n",
        "4. Plot a digital circle while maintaining symmetries\n",
        "\n",
        "\n",
        "[**Color detection**:](https://colab.research.google.com/github/ivpcl/AOLME_Level2/blob/main/Presentation_2022/ColorDet.ipynb)\n",
        "\n",
        "1. Use histograms and inequalities to detect color\n",
        "2. Apply histograms and inequalities to a minion image\n",
        "\n",
        "\n",
        "[**ESTRELLA**](https://aolme.unm.edu/WebsiteModel/template/index.html) website\n"
      ],
      "metadata": {
        "id": "oK2l5xeVv3lI"
      }
    }
  ]
}