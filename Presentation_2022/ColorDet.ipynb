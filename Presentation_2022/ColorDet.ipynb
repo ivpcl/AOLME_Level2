{
  "nbformat": 4,
  "nbformat_minor": 0,
  "metadata": {
    "colab": {
      "name": "ColorDet.ipynb",
      "provenance": [],
      "collapsed_sections": [],
      "authorship_tag": "ABX9TyPdb7knzxZU83kE4cCXBv5e",
      "include_colab_link": true
    },
    "kernelspec": {
      "name": "python3",
      "display_name": "Python 3"
    },
    "language_info": {
      "name": "python"
    }
  },
  "cells": [
    {
      "cell_type": "markdown",
      "metadata": {
        "id": "view-in-github",
        "colab_type": "text"
      },
      "source": [
        "<a href=\"https://colab.research.google.com/github/ivpcl/AOLME_Level2/blob/main/Presentation_2022/ColorDet.ipynb\" target=\"_parent\"><img src=\"https://colab.research.google.com/assets/colab-badge.svg\" alt=\"Open In Colab\"/></a>"
      ]
    },
    {
      "cell_type": "markdown",
      "source": [
        "## 1. Color Example\n",
        "[color_threshold_sliders_image.ipynb](https://colab.research.google.com/github/ivpcl/AOLME_Level2/blob/main/ColorDetectionInterface/color_threshold_sliders_image_widgets.ipynb)"
      ],
      "metadata": {
        "id": "4CohpGbUQJYT"
      }
    },
    {
      "cell_type": "markdown",
      "source": [
        "## 2. Minion Example\n",
        "[color_threshold_sliders_image_widgets_challenge.ipynb](https://colab.research.google.com/github/ivpcl/AOLME_Level2/blob/main/ColorDetectionInterface/color_threshold_sliders_image_widgets_challenge.ipynb)"
      ],
      "metadata": {
        "id": "zif-jTT_QcHL"
      }
    },
    {
      "cell_type": "markdown",
      "source": [
        "## 3. Any image\n",
        "1) Open file\n",
        "[color_threshold_sliders_image_widgets_challenge.ipynb](https://colab.research.google.com/github/ivpcl/AOLME_Level2/blob/main/ColorDetectionInterface/color_threshold_sliders_image_widgets_challenge.ipynb)\n",
        "\n",
        "2) Click the **'Files'** icon.\n",
        "\n",
        "3) Click the **'Upload the session storage'** icon, then you can upload any image from local path.\n",
        "\n",
        "4) Find the code of the second cell, line 11:\n",
        "```\n",
        "image = cv2.imread('Bob.jpg')\n",
        "```\n",
        "\n",
        "5) Replace **'Bob.jpg'** with new image name.\n",
        "\n",
        "6) Click the **'run cell'** button on the left of this cell to show the new output.\n",
        "\n"
      ],
      "metadata": {
        "id": "0_9M-njiRAVp"
      }
    }
  ]
}