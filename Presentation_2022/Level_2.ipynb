{
  "nbformat": 4,
  "nbformat_minor": 0,
  "metadata": {
    "colab": {
      "name": "Level_2.ipynb",
      "provenance": [],
      "collapsed_sections": [],
      "authorship_tag": "ABX9TyNPVTeIzconCyFP4YqZc3Om",
      "include_colab_link": true
    },
    "kernelspec": {
      "name": "python3",
      "display_name": "Python 3"
    },
    "language_info": {
      "name": "python"
    }
  },
  "cells": [
    {
      "cell_type": "markdown",
      "metadata": {
        "id": "view-in-github",
        "colab_type": "text"
      },
      "source": [
        "<a href=\"https://colab.research.google.com/github/ivpcl/AOLME_Level2/blob/main/Presentation_2022/Level_2.ipynb\" target=\"_parent\"><img src=\"https://colab.research.google.com/assets/colab-badge.svg\" alt=\"Open In Colab\"/></a>"
      ]
    },
    {
      "cell_type": "code",
      "source": [
        "!wget https://raw.githubusercontent.com/ivpcl/REVISION-3-Level-1-2019-English/main/Level1-Projects/AOLME.py"
      ],
      "metadata": {
        "colab": {
          "base_uri": "https://localhost:8080/"
        },
        "id": "KSp330p88-J7",
        "outputId": "c3fad932-13de-4a1d-db97-e18fa7e0b6d9"
      },
      "execution_count": null,
      "outputs": [
        {
          "output_type": "stream",
          "name": "stdout",
          "text": [
            "--2022-04-10 22:48:48--  https://raw.githubusercontent.com/ivpcl/REVISION-3-Level-1-2019-English/main/Level1-Projects/AOLME.py\n",
            "Resolving raw.githubusercontent.com (raw.githubusercontent.com)... 185.199.110.133, 185.199.108.133, 185.199.109.133, ...\n",
            "Connecting to raw.githubusercontent.com (raw.githubusercontent.com)|185.199.110.133|:443... connected.\n",
            "HTTP request sent, awaiting response... 200 OK\n",
            "Length: 24462 (24K) [text/plain]\n",
            "Saving to: ‘AOLME.py’\n",
            "\n",
            "\rAOLME.py              0%[                    ]       0  --.-KB/s               \rAOLME.py            100%[===================>]  23.89K  --.-KB/s    in 0.001s  \n",
            "\n",
            "2022-04-10 22:48:48 (16.1 MB/s) - ‘AOLME.py’ saved [24462/24462]\n",
            "\n"
          ]
        }
      ]
    },
    {
      "cell_type": "code",
      "source": [
        "from AOLME import *\n",
        "from IPython.display import HTML\n",
        "\n",
        "# Define the size of the image\n",
        "rows = 20  # num of rows\n",
        "cols = 20  # num of cols\n",
        "\n",
        "# Define all of the colors\n",
        "red     = \"%02x%02x%02x\" % (255, 0, 0)\n",
        "blue    = \"%02x%02x%02x\" % (0, 0, 255)\n",
        "green   = \"%02x%02x%02x\" % (0, 255, 0)\n",
        "yellow  = \"%02x%02x%02x\" % (255, 255, 0)\n",
        "cyan    = \"%02x%02x%02x\" % (0, 255, 255)\n",
        "magenta = \"%02x%02x%02x\" % (255, 0, 255)\n",
        "white   = \"%02x%02x%02x\" % (255, 255, 255)\n",
        "black   = \"%02x%02x%02x\" % (0, 0, 0)"
      ],
      "metadata": {
        "id": "uPc16BlQ9EI-"
      },
      "execution_count": null,
      "outputs": []
    },
    {
      "cell_type": "markdown",
      "source": [
        "# WebApp: \n",
        "http://ivpcl.unm.edu/ivpclpages/Research/aolme/app/interactive-img-v2.html"
      ],
      "metadata": {
        "id": "H5DT1gcjnjpK"
      }
    },
    {
      "cell_type": "markdown",
      "source": [
        "## 1. Create one dot"
      ],
      "metadata": {
        "id": "7vB_lDADnsPt"
      }
    },
    {
      "cell_type": "code",
      "source": [
        "# Create the yellow background\n",
        "frame1 = np.array([[yellow]*cols for row in range (rows)])\n",
        "\n",
        "# Create one red dot\n",
        "# Pixel center at [10,10], starts at 9.5, ends at 10.5\n",
        "frame1[10][10] = red\n",
        "\n",
        "# Display the frame\n",
        "im_show(frame1)"
      ],
      "metadata": {
        "colab": {
          "base_uri": "https://localhost:8080/",
          "height": 297
        },
        "id": "jysyLNo_nx_Y",
        "outputId": "23ef9bd4-c654-445c-934d-fdd22d0ae163"
      },
      "execution_count": null,
      "outputs": [
        {
          "output_type": "display_data",
          "data": {
            "text/plain": [
              "<Figure size 432x288 with 1 Axes>"
            ],
            "image/png": "[encoded data removed]"
          },
          "metadata": {
            "needs_background": "light"
          }
        }
      ]
    },
    {
      "cell_type": "markdown",
      "source": [
        "## 2. Create a square (5x5)"
      ],
      "metadata": {
        "id": "vhSh4F_an5j4"
      }
    },
    {
      "cell_type": "code",
      "source": [
        "# Create the yellow background\n",
        "frame2 = np.array([[yellow]*cols for row in range (rows)])\n",
        "\n",
        "# Create one 5x5 green square\n",
        "im_fill(frame2, [8, 12], [8,12], red)\n",
        "\n",
        "# Display the frame\n",
        "im_show(frame2)"
      ],
      "metadata": {
        "colab": {
          "base_uri": "https://localhost:8080/",
          "height": 297
        },
        "id": "5nARh5taLh0m",
        "outputId": "c2352292-fa4a-486a-a487-6d7e75e1b933"
      },
      "execution_count": null,
      "outputs": [
        {
          "output_type": "display_data",
          "data": {
            "text/plain": [
              "<Figure size 432x288 with 1 Axes>"
            ],
            "image/png": "[encoded data removed]"
          },
          "metadata": {
            "needs_background": "light"
          }
        }
      ]
    },
    {
      "cell_type": "markdown",
      "source": [
        "## 3. Create a square (7x7)"
      ],
      "metadata": {
        "id": "muAX-oYJn6Ag"
      }
    },
    {
      "cell_type": "code",
      "source": [
        "# Create the yellow background\n",
        "frame3 = np.array([[yellow]*cols for row in range (rows)])\n",
        "\n",
        "# Create one 7x7 blue square\n",
        "im_fill(frame3, [7, 13], [7, 13], red) # [start_row, end_row], [start_col, end_col]\n",
        "\n",
        "# Display the frame\n",
        "im_show(frame3)"
      ],
      "metadata": {
        "colab": {
          "base_uri": "https://localhost:8080/",
          "height": 297
        },
        "id": "S3kF0cvUL_NT",
        "outputId": "4905b848-c51c-4cbb-ac59-4c9a9fd2d00b"
      },
      "execution_count": null,
      "outputs": [
        {
          "output_type": "display_data",
          "data": {
            "text/plain": [
              "<Figure size 432x288 with 1 Axes>"
            ],
            "image/png": "[encoded data removed]"
          },
          "metadata": {
            "needs_background": "light"
          }
        }
      ]
    },
    {
      "cell_type": "markdown",
      "source": [
        "## 4. Create a circle"
      ],
      "metadata": {
        "id": "Wd5abfrzoGbz"
      }
    },
    {
      "cell_type": "code",
      "source": [
        "# Create the yellow background\n",
        "frame4 = np.array([[yellow]*cols for row in range (rows)])\n",
        "\n",
        "# Create one magnate circle\n",
        "im_fill(frame4, [8, 12], [9,11], red)\n",
        "im_fill(frame4, [9, 11], [8,12], red)\n",
        "\n",
        "im_fill(frame4, [10, 10], [7, 13], red)\n",
        "im_fill(frame4, [7, 13], [10, 10], red)\n",
        "\n",
        "# Display the frame\n",
        "im_show(frame4)"
      ],
      "metadata": {
        "colab": {
          "base_uri": "https://localhost:8080/",
          "height": 297
        },
        "id": "YTl7gRk7oM3z",
        "outputId": "3f2211d1-ba73-4b21-dc83-01fb481d02bd"
      },
      "execution_count": null,
      "outputs": [
        {
          "output_type": "display_data",
          "data": {
            "text/plain": [
              "<Figure size 432x288 with 1 Axes>"
            ],
            "image/png": "[encoded data removed]"
          },
          "metadata": {
            "needs_background": "light"
          }
        }
      ]
    },
    {
      "cell_type": "markdown",
      "source": [
        "## 5. Create a video with previous frames"
      ],
      "metadata": {
        "id": "Gw990F2goOEK"
      }
    },
    {
      "cell_type": "code",
      "source": [
        "# list of frames\n",
        "frame_list = [frame1,\n",
        "              frame2,\n",
        "              frame3,\n",
        "              frame4]         \n",
        "\n",
        "# frames per sec\n",
        "fps= 1                               \n",
        "play_video= vid_show(frame_list, fps) "
      ],
      "metadata": {
        "colab": {
          "base_uri": "https://localhost:8080/",
          "height": 297
        },
        "id": "3lnvqpbKK4Oj",
        "outputId": "35a8ef0e-9c4f-47a5-f543-7184a01127a6"
      },
      "execution_count": null,
      "outputs": [
        {
          "output_type": "display_data",
          "data": {
            "text/plain": [
              "<Figure size 432x288 with 1 Axes>"
            ],
            "image/png": "[encoded data removed]"
          },
          "metadata": {
            "needs_background": "light"
          }
        }
      ]
    },
    {
      "cell_type": "code",
      "source": [
        "# play on screen\n",
        "HTML(play_video.to_html5_video())"
      ],
      "metadata": {
        "colab": {
          "base_uri": "https://localhost:8080/",
          "height": 326
        },
        "id": "wC2vm0l2N-6x",
        "outputId": "d0d4177f-c656-4bff-c24b-0c6e53d72516"
      },
      "execution_count": null,
      "outputs": [
        {
          "output_type": "execute_result",
          "data": {
            "text/plain": [
              "<IPython.core.display.HTML object>"
            ],
            "text/html": [
              "<video width=\"432\" height=\"288\" controls autoplay loop>\n",
              "  <source type=\"video/mp4\" src=\"data:video/mp4;base64,AAAAHGZ0eXBNNFYgAAACAGlzb21pc28yYXZjMQAAAAhmcmVlAAAYEW1kYXQAAAKtBgX//6ncRem9\n",
              "5tlIt5Ys2CDZI+7veDI2NCAtIGNvcmUgMTUyIHIyODU0IGU5YTU5MDMgLSBILjI2NC9NUEVHLTQg\n",
              "QVZDIGNvZGVjIC0gQ29weWxlZnQgMjAwMy0yMDE3IC0gaHR0cDovL3d3dy52aWRlb2xhbi5vcmcv\n",
              "eDI2NC5odG1sIC0gb3B0aW9uczogY2FiYWM9MSByZWY9MyBkZWJsb2NrPTE6MDowIGFuYWx5c2U9\n",
              "MHgzOjB4MTEzIG1lPWhleCBzdWJtZT03IHBzeT0xIHBzeV9yZD0xLjAwOjAuMDAgbWl4ZWRfcmVm\n",
              "PTEgbWVfcmFuZ2U9MTYgY2hyb21hX21lPTEgdHJlbGxpcz0xIDh4OGRjdD0xIGNxbT0wIGRlYWR6\n",
              "b25lPTIxLDExIGZhc3RfcHNraXA9MSBjaHJvbWFfcXBfb2Zmc2V0PS0yIHRocmVhZHM9MyBsb29r\n",
              "YWhlYWRfdGhyZWFkcz0xIHNsaWNlZF90aHJlYWRzPTAgbnI9MCBkZWNpbWF0ZT0xIGludGVybGFj\n",
              "ZWQ9MCBibHVyYXlfY29tcGF0PTAgY29uc3RyYWluZWRfaW50cmE9MCBiZnJhbWVzPTMgYl9weXJh\n",
              "bWlkPTIgYl9hZGFwdD0xIGJfYmlhcz0wIGRpcmVjdD0xIHdlaWdodGI9MSBvcGVuX2dvcD0wIHdl\n",
              "aWdodHA9MiBrZXlpbnQ9MjUwIGtleWludF9taW49MSBzY2VuZWN1dD00MCBpbnRyYV9yZWZyZXNo\n",
              "PTAgcmNfbG9va2FoZWFkPTQwIHJjPWNyZiBtYnRyZWU9MSBjcmY9MjMuMCBxY29tcD0wLjYwIHFw\n",
              "bWluPTAgcXBtYXg9NjkgcXBzdGVwPTQgaXBfcmF0aW89MS40MCBhcT0xOjEuMDAAgAAAD7pliIQA\n",
              "F//+99S3zLLtU2+2C6j3op4hL/8JXwEAR2aUnBQpjt/Q7aUopxjO7vUC7jUvowEYjh+T/mOaqoFy\n",
              "5zn2TDWyDT1Dp+UFJqjBXBuAosh6s/Xjo8m7+KGE3wzAY9Nlshf6UleMCdS5ESmd7Zbuwrb5H8u5\n",
              "mL0aEIXHWtXti/8IYi+lxqg4hkcdH+deJA7aEGZhz2rQG5kGatnV32+3znprPR97CgffCj71pV1M\n",
              "N6D5IUnoofY1HSwR9kNWqc7M1VyAEeF6/2j/3YirfRf0DEm/TT9jMOr0fNmlGNuY6BgoH9GjAgsy\n",
              "f7xMoa2JirQUyBGJxy9G16a24JoFSALnYDAgVDlP2rw7rBgIkPzXkpZd/PuETOQUyryUF2WHI+F5\n",
              "fqhy12nP0au38G+5MwZX9jmNoiAlj+U5rmSe5Gg7f4YmSvO+o1LSu+OpAFRt8Q33ulDnmpHa9UEd\n",
              "vaN8yF2sRxQMV8DisXYNmAZbluFGQMOfilLcqkHad6x9aTdpWuC8ysCqOa/CJ0lmL6tzAWVVgVxB\n",
              "eES+Qhf5qoVcZdffEqaCgonxSoXoMmJNwHa6JZMUHoJW4+/4yx6Hb+8uzi7cgYSIbWJhkgew6cDL\n",
              "4Mh7VdsSyqqIn5Qt8TeMo9z0oogOT/l5BYF8RhmdBr3IKffumFqB2zeRSNN78BTSN3V4A7Rk/TmF\n",
              "tp0FaiZDfm/cjcukNP2+NAW8TEhczTe0ViMbnsUm9PouOTCPyIKpnnQ8eYo+p6Va7yzsh2zEVVjY\n",
              "Ibec7Ww+b9i66pTvv3DUn+jDd8HgZV0vz00JXbV5qHcqvXgizNXL+KpuKCeUR52QTz2wg5hTdqzM\n",
              "FfoTD2Vot8Q5OaG3a+IPCpKrr0SG3hFXp/fj+2iFJIYNz1SMz6LJPwANbOyPWjF/nPL83K9a9uII\n",
              "/wNlnfUghwIIaw+Q8H25ZMCKztMjb9KwA7XpNv0QK1+ASnj+Xi5ZIK5dTiOeO40mKJ426v/tvg/T\n",
              "xVVH7lEJalwEPHr35WuwgGdCGq4igo97iSk4vojKoUidGthdb+yoPd2Mr0mzMgM51W9Z+j6nZGNL\n",
              "h26FFGMyOm3xa+Y9FxLUc4erDgsr9un6cKi1/XbfURgFigXNID5+3GXSSTlm6iI8KMItCNa+4Mb3\n",
              "BvrxRkNCTpIY2z3aRKPKZwrMvxey2uCHZWcfKycSi2X3JVGPiEgLap/12VxDZyLztJ1514VfIgu1\n",
              "grg+gBGlwQstZcz6/SpxKUjx9y7Uw45NXSJvUOUbQkZjY4oX8BzMUDlPSe2jQ0zFxU8/IPeUaKPs\n",
              "rpKEb/cjCjFrPnq7M5t9GRkAY80QJb7nZu+r7+Q/D9uOVf5Nx++Vk9YiMZXRudnpgrxTvC4SFfu0\n",
              "6FbQ2vqC+fAW/LDVcvXJCtI6aO9V0p2a2i/OzRb30ziZxe0PTiatBJYNDAcD5Rxyz/3ZJ37/rSGk\n",
              "U78QZLJrHbUPPiD3t3LCoSkgD02Gi3teUFUgfY9RNnnbCCEq7n/1KyFNlaXA+uf0SaKm6xckKdN0\n",
              "tN/INmujsmJasaoMFfFR3ZLUQ0T8v6MvZLb561D78OziCAgK9Rq+UxXhaIdXoWFDyJBCXyiGasSe\n",
              "709YuVCPVu/KtNbcLVJgB4UZ6zSM07T606bWAX+8te7PEg/V5ER+ISGYjbLghfOLkfwczFC6tgMN\n",
              "EQ9h9Vq2i4Xa6zLqBcfWEnF0z3tkmbqteV+EeKmkT64iMAIZLUZHSU+Wg9TlybIBWQrk1XDzKJZx\n",
              "PdMpgA6m5oeFI9Uta3RY3I/vOk0mWkz6iWe3xq8omsGGQin9+nouruepGz/X30K973PkET7dxLGc\n",
              "Gj4sUGzIDA1RjZrU4PHyg0DSrWyhjIljJdTOME5eYmDTreFIv5nBd0JzaH+qwZIj4lfrkZS2zAo6\n",
              "w41Le4mFoCQTjYn/+7Ilx5JfMlLo4/NpKkTPje3tZ6tMtP5DMU1N9ycHtui56WieWs8bQu62qU9D\n",
              "opcReQPaQT5phUxVLu0nhQLkXyycxqFnR6AcJeU8Ga2EoEXIzzeWnX5uakBUl7Vd5GQ1tswdgghm\n",
              "rCgYGc6KUwrYDLuxeebC8FmCZQL5pzW8aBgxVmjKjEaEB/1btjwhTwkowlMTNJr3B7KfkYF/U75C\n",
              "7NUosfVk7pUQTTPAy6M/72z1adCUVOA7GgEOJ09ds+5vaY3jucaAadi8d53uqJPM7j5r2bGrjXnm\n",
              "DCfp9V98SURpsb+2b+8XFsymYvTooxlLSzoXuVkUZJysEfymTI2w6Ckj9BRgDwq1CEbFbL0RIw1J\n",
              "A4FW/HLoRxJVxt7WdZ9lsuI8zEzyMugrNkcyjsCuinngT6triJjLsdC4xuzFFhRNtVXy0UdcRToF\n",
              "ORBUB8qpvmk2pRPY9UCnVWobtoB5GdCU+1/Qq3IH72GcBjDCwAhra2NBE4sx911ydP1jsj5UyrFl\n",
              "Wa2fPOZYTwgzzypGpJsSZzHZ5WTTFeDGaILUfMra/zE8foTBmZNqpKDhaLfXd5ktYDCvJilnzqcB\n",
              "LIgAqYaNotfjwxu19g6mnamcqZ/E/0HgXzoDIU43vekBJjrxFwv7qpWDiqznNDkET+jo6vZdhTOw\n",
              "aOjE4I2vKmhqTF6dEWYK4uqdlx2cXPsRQji0ZE5itjzxOAJ2yKjps6sP12mFXjj89KfwTmT+0vkw\n",
              "AG4SyNgPm0+Ge/CNPrBTZjDrEtY61TdZGGNie4k3hHN+Yhum659I6ttp4A6z5yBJUWtpsH6YIp07\n",
              "u9l6qcj9GWApWQV1D0HrjSgORP7X7H/3pcTqhYL6t5GFJAv0KbaAvCVHfoEflZt72Se4BmNqHTsW\n",
              "5OwpQzb4S6ct23dYGXll+1pdWrDpnEk5pI1HTqPOgIJo+ihiecjm7ihTPSAP/sGxgfIkyk0S+jpX\n",
              "f4GNCs/Qiccjyl0fYiyPNyCY1+hYBQZnuynPC14cP/rK8+fmGEQHeGBP1tS1ce1rKRdTS6uWSQ+d\n",
              "3OGFxwTNTVQXDWawqYRfK1KQ+5mLRDycA6AXq9xUxZFV7ZZeEm0m+Okil6T/VUlGtiHsOv7zpJma\n",
              "fDWyO/jbmY9uoXqF59Ta6L4uyav/cXJyBKkhjECOls6MHe6FR56pxUyBxJbhe9n2v/GVJufx0pmM\n",
              "xn2fs7113/wlfEYJcUmR5xwx+EBH+goZBSwq+VY8Oznkz+tFKYO8ka5mx8pKazvrgJv9wxRJ636e\n",
              "mulVWcnLuTSlad1rYku2jEBKvGy3kzlXDU7D3uJN8iMYlJ6Edf//+iBqJpfpjiTdDSm3npgd7y3x\n",
              "MHvJ+xVdrI3AZyTfgStihVbRzZEifwg5v8xId+xZ9IbzsK6Nlq3tgV1tvX9XEdv0pOVP7MljU+1s\n",
              "Gt8wClE6MO+8nWv8rIiT8p00TwF6mYp8yv/8PWisNc+ShRS5g4M0WY/+5zYBPBl+cc1zUM5Tn9Fc\n",
              "yzWtR8mZn2AbnbdCO7b1u3HrCySj1A9NggQ6MGgPd0oNx8ncSdsplXtF+MM8rH9+mFqeop00MaHh\n",
              "gA+W7IK5JTy4owoxBS+nLlibl8v2Rfm7S34R6HzVMgC7/kT9Sj7uA1j2MknkUXjs7A7slKiTfg7l\n",
              "lpgRJqrPTSVYvhYrFw2dzS6MS/uPS3r2oPTi/Rimz0rIsWZFMrjRDFyxqt937F6Nb8vKtACtav+o\n",
              "qzV5zoK0K6EzxKi5Qo5XBuaYt1sHvEmJLu54hZ2J0SpzPcBW6HDgocc8bjM5brpkByStgSv17XWt\n",
              "jOKf43/cFSYeeC6lNhrQwj0UK+XOx6NyE1iIf1fYwEUngigMuK///liLrFduohzW4pOrQpvUwHRx\n",
              "MK8NZcbQcNXfTO30as1KJmtCTxLGGTxXyFCCOIiBrpjnseSS4rWZYIz67jR2jvaNgYC1rNdiGT87\n",
              "eRzo+CN3nFNSGEXWg9zStumP7WoRb6OLeCZwbHd0WICIb4tgShOcDwLnqf9tle6m+08X6bfeuiZo\n",
              "b1HGxhBn/Qqy4j8ZSF+fvmdkmJE+8KE1OYNjJvavXL5ey9Mr+hm47T9jQoOKjyetoxd6XIAuGqfQ\n",
              "SIlAorI1s/hTCiwVCA2vKfYcV6eXO4tbWDHR6utI+aQL5aU8ZGO9UrPNR+JgOeFvLpDSqtCxP8PX\n",
              "O/DFUu42VFwfrrzIJShSWu6e3eM11SnwzCnQ6QsfayDEcYu6xLhUTurbJFvnK3T5jZRYfigE1i7x\n",
              "iFOXLo+d5MSRa/SVbuZLSoOdM+4aK+jcMSf4vSKd0R4VtvRqZSwbpGbyUMH6sUqk9nL62WNggUd3\n",
              "PONIR1BhVgExgOUJMzgzmu2FcS7pcRSubIt9mNKYyjHbl2CtiR7uCGRQSUiDur07zXP/qiqG77u5\n",
              "z3LkrVNj/ssR3d3kYSn8F88n/zb+YBQtJiPpPMaNg7yP2NBt9qEL+nwgtFfdno0/GIU4O6ROaRFw\n",
              "NlRHXsOQceGoX+bn/Ii5dxj5FKyPr0x1hJhIvhB1UAW/m1+VozLgndf7lIConmAPt50bOCNsZvrr\n",
              "d097zILL0OLmr/5cM2uJb9JSnXoRBrjUIs+EIC7trEVgyNLonKiFLFWeJIgkPlMFSL7cHcaiNj42\n",
              "Ye5E9/EJat6aCpCy+Eg2ECtiYkZXBlzR0/qLnoyz4Cu6C4sw9kznTxwmA8ut1e4dMus6U4xTvKgj\n",
              "Hy/qbOj7kM8eX48QPYoNJzsJ6yNS4DwNQ8Z4jhd8t3RN+mlh07gpXYPGfho0wVc15I1k6wyGtT41\n",
              "Zvbmai/KSEw5V6Ad054EkMCqSSktqzf1FC1h4RIhG8wBvI9Drthnllj+9mIs1N6SZCue2mIFfGdx\n",
              "hhMZ7VYkPedNQgfSl2V6yc+V17fvF39oBObZmolgnQfUkb625cc8fak7S2avtOTzDbFBl8jWTEnj\n",
              "bRPLgae0k1iJgRlsnaPZiHftDHBEA5amGxL8ol0VZ/rI7yvgji5DCgDFI5clv+wUbQQd8gm7dJNk\n",
              "bz5K4fI4WM+Q6PcWazMP6KQWOBl95axaoDfmiwg2/1FBMNkLUkcSrN79bSmbluEAxdMWw/scXuhD\n",
              "4RT7qju1aOzQxgpopp71JW92gCy6DhTNg+lM0aq/sh8ADLz+hEj4YF+m1SWpkxoRI54KYn7Qnp6A\n",
              "+zgnekXGuEiXLBb4RYkTSf+YcFdZH0zhJWTBnnSl5KMQassV8eGF6ZoNy3fcuEC99Jex0Jrv6RFh\n",
              "/qglC1ntOTsblDtiwohZgB1UbV//z296BOb6g9+HrzjQXyx2KBL9RRNoSw8DfsqF+VqS2qHIJleA\n",
              "dTX6ty42SfEggU6bMyIRtPa1pzq79L3R/Cuak7WgVU+9n5EfZMUP+iD+oqu0HSIBfD8r0+uHIxpq\n",
              "8NNzAcXOdwCOJI4N6p1FYOnQ0hijAFg3RpQ6xSnFLeEAAAHOQZohbEF//tqmgM8T0ABLaop3EfWk\n",
              "Y1Mb5sUoxJu/JqDjAi48e5UmCuHn62sDFkwSd0Uz5kO8gqOJjjO9jBkBV0m2CKCsT0b8fsxNJqk+\n",
              "nCvpE0FYyDUp6odLTitOnImn+5P77/dsAzK8RUZnGoxg06IzO++hLl4n81HIelxkF1OPm+/t8KRA\n",
              "bT7gRW09jNr/wuKzppDFkSqHlcHiR0sv5kjx2q4VXU1lCIXH2B8VoqUbRFeyAlV83fIYMdIsec+w\n",
              "2lN69m9iKJsI5uBUqHVXVuv1SV5k0waDgiBv2SnOpLxFpI5M01onJEngPcSm+Juzy5S5q/sERftJ\n",
              "8uW8Kb1hVKiKTP9lFO32Ldm98WDK+Ld3WV3FG7cKdcpGvlNE/NyXH8xZxE0WlwCf8JZF0e7m7fOe\n",
              "Dm4sJC9DocoMEIpDyyATz5jgXWwvpTMJCnHi6kHkiP0ZLg+lb7kf7WZ3GoOWS43jkhv3P4KHeDVa\n",
              "1ZrUZ6COOIcGcrM9XgNdVQxicSJEkDaLpMHKFe6Xj0O9VvhdVzZab8kBcM8KcWtGpexSAvbGBZfW\n",
              "ZG5ylPvGoLq/gdpjfcFFq4kqftWKLjlRBgBncsFXJI9XM9MhTYUxCQZBAAADCUGaQzwhkymEFf/+\n",
              "1qVQADBfPspjLidr0lee1HF+Nxyc826jeuzTeelJ2WP4V0Sr+9pmifOjG4xF5Dh8fSiz+U86f/nQ\n",
              "DEoDROJbS8AaOGS4/8CwSviILoqIjWinQxQG0JHbwd9uFbgVQxxe3m45Z6pzEcy9TaqiAQpSWBFw\n",
              "t2YHJc2bnmHYn9r1c97y//wXBlmZd//lEmEhoryZpkss97zidji1jai8ogutqRfYmE/HD2ED1Zou\n",
              "oROJgYjgc0UmMkWTdlvmNgZURXmvAOzl8zf/qQgWT709WJwiUxwqUttRriM0Lv9cjVgz3LqHP7y4\n",
              "6QAV2fQ5yJuJF0rHJ80CM6lcNO+LLFGF6iNQUeab8UR0WaWgYLJomA2J/SxwrlXfAQfaPnaPg/oQ\n",
              "8mWZGD/iWelB7GQ9wBH/RNitvEk9c4ttWO9JH0L4TUbClvFUQcxfGV3Kt1fezR+L7P47sor43Vzk\n",
              "sO9Wt3qVhEFYlgVtM9V2Qs8VbRFBM/A0bo1/zxk8ml5fL8tnq4lhnfctp4l5X2Alm0ZT8Xif8iNU\n",
              "3gtUu90YZTJWO7T500aqL1X/UY66UQ3aq13GW9A/wbvFn8zaPjurMSWKWxVtHSDzvgilqFAkNe1W\n",
              "sVHraZhkapWDF+wnIWPQ/ScsYJaQ5QZNaBZbQBxmOwyULZluOvSI8UiTaGfi7BxRCPl0akQ2I6ht\n",
              "TRPc3UDpDPkndbectY8/pj+X3opCObVYt3UwEziITw+7r5zA4bhF0DEPnz+dInDm/dd6FiIjyikg\n",
              "Hl3wKQDq9g4y37KIGZ1yymduW2hCRCLhPA+09U2ZqFLXTnRk2AI3p5s47ktPLud+DlM+1vabectr\n",
              "CZVOtfcyfrR2SExCjIoIDEdqHS98WRzVgg0pEYLXEVu9HPEt2ZWNCjtMUO2LpnyveMPzxJ4qQIUs\n",
              "GE/7dhvH3rXjCy8qcMHtH1VP/MKXQJdKbe5qnNgxm4UpUxB+XjziyO9UIeLUWFnzEDnqiWD7s1e0\n",
              "hU/YWmQRo1tIqnUlY+ODb3tyecAAMDrIaQAAALcBnmJqQV8AASSaeyx51Q47Z5tZzgxXT1YcujoS\n",
              "7+wAQ0w1V9ZT/qThKKv1dO4YB4hqaDBOqSVTmIhoL69Q8YZ8IeYA/m0ZXAsZNxCyK9kOCH1w2dHk\n",
              "Jx6Z2Cl4CKQpHz3OdQwtuFINtKbqnsCGgAGhhdIkJ4z2my5Jqe1pXPGSMpidzzryjatKHroaRwJd\n",
              "RLZ+4br0sGathAiWqMG8VxBg7tXYKV0ExyE9zDcnB/HLwSbHfAfxw7gAAANWbW9vdgAAAGxtdmhk\n",
              "AAAAAAAAAAAAAAAAAAAD6AAAD6AAAQAAAQAAAAAAAAAAAAAAAAEAAAAAAAAAAAAAAAAAAAABAAAA\n",
              "AAAAAAAAAAAAAABAAAAAAAAAAAAAAAAAAAAAAAAAAAAAAAAAAAAAAAAAAgAAAoB0cmFrAAAAXHRr\n",
              "aGQAAAADAAAAAAAAAAAAAAABAAAAAAAAD6AAAAAAAAAAAAAAAAAAAAAAAAEAAAAAAAAAAAAAAAAA\n",
              "AAABAAAAAAAAAAAAAAAAAABAAAAAAbAAAAEgAAAAAAAkZWR0cwAAABxlbHN0AAAAAAAAAAEAAA+g\n",
              "AACAAAABAAAAAAH4bWRpYQAAACBtZGhkAAAAAAAAAAAAAAAAAABAAAABAABVxAAAAAAALWhkbHIA\n",
              "AAAAAAAAAHZpZGUAAAAAAAAAAAAAAABWaWRlb0hhbmRsZXIAAAABo21pbmYAAAAUdm1oZAAAAAEA\n",
              "AAAAAAAAAAAAACRkaW5mAAAAHGRyZWYAAAAAAAAAAQAAAAx1cmwgAAAAAQAAAWNzdGJsAAAAs3N0\n",
              "c2QAAAAAAAAAAQAAAKNhdmMxAAAAAAAAAAEAAAAAAAAAAAAAAAAAAAAAAbABIABIAAAASAAAAAAA\n",
              "AAABAAAAAAAAAAAAAAAAAAAAAAAAAAAAAAAAAAAAAAAAAAAAGP//AAAAMWF2Y0MBZAAV/+EAGGdk\n",
              "ABWs2UGwloQAAAMABAAAAwAIPFi2WAEABmjr48siwAAAABx1dWlka2hA8l8kT8W6OaUbzwMj8wAA\n",
              "AAAAAAAYc3R0cwAAAAAAAAABAAAABAAAQAAAAAAUc3RzcwAAAAAAAAABAAAAAQAAAChjdHRzAAAA\n",
              "AAAAAAMAAAACAACAAAAAAAEAAMAAAAAAAQAAQAAAAAAcc3RzYwAAAAAAAAABAAAAAQAAAAQAAAAB\n",
              "AAAAJHN0c3oAAAAAAAAAAAAAAAQAABJvAAAB0gAAAw0AAAC7AAAAFHN0Y28AAAAAAAAAAQAAACwA\n",
              "AABidWR0YQAAAFptZXRhAAAAAAAAACFoZGxyAAAAAAAAAABtZGlyYXBwbAAAAAAAAAAAAAAAAC1p\n",
              "bHN0AAAAJal0b28AAAAdZGF0YQAAAAEAAAAATGF2ZjU3LjgzLjEwMA==\n",
              "\">\n",
              "  Your browser does not support the video tag.\n",
              "</video>"
            ]
          },
          "metadata": {},
          "execution_count": 9
        },
        {
          "output_type": "display_data",
          "data": {
            "text/plain": [
              "<Figure size 432x288 with 0 Axes>"
            ]
          },
          "metadata": {}
        }
      ]
    }
  ]
}