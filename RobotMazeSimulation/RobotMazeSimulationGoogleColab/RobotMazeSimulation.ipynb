{
  "nbformat": 4,
  "nbformat_minor": 0,
  "metadata": {
    "colab": {
      "name": "RobotMazeSimulation.ipynb",
      "provenance": [],
      "collapsed_sections": []
    },
    "kernelspec": {
      "name": "python3",
      "display_name": "Python 3"
    },
    "language_info": {
      "name": "python"
    },
    "accelerator": "GPU"
  },
  "cells": [
    {
      "cell_type": "code",
      "metadata": {
        "colab": {
          "base_uri": "https://localhost:8080/"
        },
        "id": "ynayQBPN6Ss5",
        "outputId": "653d6c2b-9e1f-4a1a-fcdb-2a5449c20c0a"
      },
      "source": [
        "!pip install pygame"
      ],
      "execution_count": 1,
      "outputs": [
        {
          "output_type": "stream",
          "text": [
            "Collecting pygame\n",
            "\u001b[?25l  Downloading https://files.pythonhosted.org/packages/4b/9e/c400554dd1d0e562bd4379f35ad5023c68fc120003a58991405850f56f95/pygame-2.0.1-cp37-cp37m-manylinux1_x86_64.whl (11.8MB)\n",
            "\u001b[K     |████████████████████████████████| 11.8MB 242kB/s \n",
            "\u001b[?25hInstalling collected packages: pygame\n",
            "Successfully installed pygame-2.0.1\n"
          ],
          "name": "stdout"
        }
      ]
    },
    {
      "cell_type": "code",
      "metadata": {
        "id": "oIqv532Cm_i7",
        "colab": {
          "base_uri": "https://localhost:8080/"
        },
        "outputId": "62544a75-b761-4498-a6c1-54b644312f6c"
      },
      "source": [
        "!wget https://raw.githubusercontent.com/ivpcl/AOLME_Level2/main/RobotMazeSimulation/RobotMazeSimulationGoogleColab/robot.png\n",
        "!wget https://raw.githubusercontent.com/ivpcl/AOLME_Level2/main/RobotMazeSimulation/RobotMazeSimulationGoogleColab/RobotMazeSetting.py\n",
        "!wget https://raw.githubusercontent.com/ivpcl/AOLME_Level2/main/RobotMazeSimulation/RobotMazeSimulationGoogleColab/AOLME.py"
      ],
      "execution_count": 2,
      "outputs": [
        {
          "output_type": "stream",
          "text": [
            "--2021-07-16 23:04:21--  https://raw.githubusercontent.com/ivpcl/AOLME_Level2/main/RobotMazeSimulation/RobotMazeSimulationGoogleColab/robot.png\n",
            "Resolving raw.githubusercontent.com (raw.githubusercontent.com)... 185.199.110.133, 185.199.111.133, 185.199.108.133, ...\n",
            "Connecting to raw.githubusercontent.com (raw.githubusercontent.com)|185.199.110.133|:443... connected.\n",
            "HTTP request sent, awaiting response... 200 OK\n",
            "Length: 3505 (3.4K) [image/png]\n",
            "Saving to: ‘robot.png’\n",
            "\n",
            "\rrobot.png             0%[                    ]       0  --.-KB/s               \rrobot.png           100%[===================>]   3.42K  --.-KB/s    in 0s      \n",
            "\n",
            "2021-07-16 23:04:22 (65.8 MB/s) - ‘robot.png’ saved [3505/3505]\n",
            "\n",
            "--2021-07-16 23:04:22--  https://raw.githubusercontent.com/ivpcl/AOLME_Level2/main/RobotMazeSimulation/RobotMazeSimulationGoogleColab/RobotMazeSetting.py\n",
            "Resolving raw.githubusercontent.com (raw.githubusercontent.com)... 185.199.108.133, 185.199.109.133, 185.199.110.133, ...\n",
            "Connecting to raw.githubusercontent.com (raw.githubusercontent.com)|185.199.108.133|:443... connected.\n",
            "HTTP request sent, awaiting response... 200 OK\n",
            "Length: 13214 (13K) [text/plain]\n",
            "Saving to: ‘RobotMazeSetting.py’\n",
            "\n",
            "RobotMazeSetting.py 100%[===================>]  12.90K  --.-KB/s    in 0s      \n",
            "\n",
            "2021-07-16 23:04:22 (114 MB/s) - ‘RobotMazeSetting.py’ saved [13214/13214]\n",
            "\n",
            "--2021-07-16 23:04:22--  https://raw.githubusercontent.com/ivpcl/AOLME_Level2/main/RobotMazeSimulation/RobotMazeSimulationGoogleColab/AOLME.py\n",
            "Resolving raw.githubusercontent.com (raw.githubusercontent.com)... 185.199.109.133, 185.199.111.133, 185.199.108.133, ...\n",
            "Connecting to raw.githubusercontent.com (raw.githubusercontent.com)|185.199.109.133|:443... connected.\n",
            "HTTP request sent, awaiting response... 200 OK\n",
            "Length: 22884 (22K) [text/plain]\n",
            "Saving to: ‘AOLME.py’\n",
            "\n",
            "AOLME.py            100%[===================>]  22.35K  --.-KB/s    in 0.001s  \n",
            "\n",
            "2021-07-16 23:04:22 (20.0 MB/s) - ‘AOLME.py’ saved [22884/22884]\n",
            "\n"
          ],
          "name": "stdout"
        }
      ]
    },
    {
      "cell_type": "code",
      "metadata": {
        "colab": {
          "base_uri": "https://localhost:8080/"
        },
        "id": "iR0ow2-e2gTU",
        "outputId": "e7804db2-236d-4b1b-c3a4-747d5dcef335"
      },
      "source": [
        "import os\n",
        "os.environ[\"SDL_VIDEODRIVER\"] = \"dummy\"\n",
        "from IPython.display import HTML\n",
        "import AOLME\n",
        "from RobotMazeSetting import RobotMazeSetting\n"
      ],
      "execution_count": 3,
      "outputs": [
        {
          "output_type": "stream",
          "text": [
            "pygame 2.0.1 (SDL 2.0.14, Python 3.7.11)\n",
            "Hello from the pygame community. https://www.pygame.org/contribute.html\n"
          ],
          "name": "stdout"
        }
      ]
    },
    {
      "cell_type": "code",
      "metadata": {
        "id": "yV6eLG9k2ZBv",
        "colab": {
          "base_uri": "https://localhost:8080/",
          "height": 1000
        },
        "outputId": "f6a35d14-1e2a-4693-94c3-955f8d9776bc"
      },
      "source": [
        "if __name__ == '__main__':\n",
        "    \"\"\" Type activities for robot movemxents:\n",
        "        Move forward:  gopi.fw(second)\n",
        "        Move backward: gopi.bw(second)\n",
        "        Move left:     gopi.lt(second)\n",
        "        Move right:    gopi.rt(second)\n",
        "    \"\"\"\n",
        "    frame_list = []\n",
        "\n",
        "\n",
        "    robot_speed =  3\n",
        "    gopi        =  RobotMazeSetting(robot_speed, frame_list)\n",
        "    collision   =  False\n",
        "    final       =  False\n",
        "    \n",
        "    while(final==False):\n",
        "        if collision == False:\n",
        "            collision, final, time = gopi.fw(10)\n",
        "        else:\n",
        "            collision, final, time = gopi.bw(4)\n",
        "            collision, final = gopi.ltd(50)\n",
        "\n",
        "        if time == False:\n",
        "          break\n",
        "       \n",
        "            \n",
        "    #gopi.run_game()\n",
        "\n",
        "    all_frame = gopi.frame_list\n",
        "    print(len(all_frame))\n",
        "    fps = 60\n",
        "    play_video = AOLME.vid_show(all_frame, fps) \n",
        "    print('Video is ready') \n",
        "\n"
      ],
      "execution_count": 5,
      "outputs": [
        {
          "output_type": "stream",
          "text": [
            "Move forward 10s\n",
            "Move forward 10s\n",
            "Move forward 10s\n",
            "Move forward 10s\n",
            "Cannot move\n",
            "Cannot move forward\n",
            "Move backward 4s\n",
            "Turn left 50 degrees\n",
            "Move forward 10s\n",
            "Cannot move\n",
            "Cannot move forward\n",
            "Move backward 4s\n",
            "Turn left 50 degrees\n",
            "Move forward 10s\n",
            "Cannot move\n",
            "Cannot move forward\n",
            "Move backward 4s\n",
            "Turn left 50 degrees\n",
            "Move forward 10s\n",
            "Cannot move\n",
            "Cannot move forward\n",
            "Move backward 4s\n",
            "Turn left 50 degrees\n",
            "Move forward 10s\n",
            "Move forward 10s\n",
            "Cannot move\n",
            "Cannot move forward\n",
            "Move backward 4s\n",
            "Turn left 50 degrees\n",
            "Move forward 10s\n",
            "Move forward 10s\n",
            "Cannot move\n",
            "Cannot move forward\n",
            "Move backward 4s\n",
            "Turn left 50 degrees\n",
            "Move forward 10s\n",
            "Move forward 10s\n",
            "Move forward 10s\n",
            "Move forward 10s\n",
            "Move forward 10s\n",
            "Move forward 10s\n",
            "Move forward 10s\n",
            "Move forward 10s\n",
            "Cannot move\n",
            "Cannot move forward\n",
            "Move backward 4s\n",
            "Turn left 50 degrees\n",
            "Move forward 10s\n",
            "Move forward 10s\n",
            "Cannot move\n",
            "Cannot move forward\n",
            "Move backward 4s\n",
            "Turn left 50 degrees\n",
            "Move forward 10s\n"
          ],
          "name": "stdout"
        },
        {
          "output_type": "error",
          "ename": "KeyboardInterrupt",
          "evalue": "ignored",
          "traceback": [
            "\u001b[0;31m---------------------------------------------------------------------------\u001b[0m",
            "\u001b[0;31mKeyboardInterrupt\u001b[0m                         Traceback (most recent call last)",
            "\u001b[0;32m<ipython-input-5-878a1b74d7ef>\u001b[0m in \u001b[0;36m<module>\u001b[0;34m()\u001b[0m\n\u001b[1;32m     16\u001b[0m     \u001b[0;32mwhile\u001b[0m\u001b[0;34m(\u001b[0m\u001b[0mfinal\u001b[0m\u001b[0;34m==\u001b[0m\u001b[0;32mFalse\u001b[0m\u001b[0;34m)\u001b[0m\u001b[0;34m:\u001b[0m\u001b[0;34m\u001b[0m\u001b[0;34m\u001b[0m\u001b[0m\n\u001b[1;32m     17\u001b[0m         \u001b[0;32mif\u001b[0m \u001b[0mcollision\u001b[0m \u001b[0;34m==\u001b[0m \u001b[0;32mFalse\u001b[0m\u001b[0;34m:\u001b[0m\u001b[0;34m\u001b[0m\u001b[0;34m\u001b[0m\u001b[0m\n\u001b[0;32m---> 18\u001b[0;31m             \u001b[0mcollision\u001b[0m\u001b[0;34m,\u001b[0m \u001b[0mfinal\u001b[0m\u001b[0;34m,\u001b[0m \u001b[0mtime\u001b[0m \u001b[0;34m=\u001b[0m \u001b[0mgopi\u001b[0m\u001b[0;34m.\u001b[0m\u001b[0mfw\u001b[0m\u001b[0;34m(\u001b[0m\u001b[0;36m10\u001b[0m\u001b[0;34m)\u001b[0m\u001b[0;34m\u001b[0m\u001b[0;34m\u001b[0m\u001b[0m\n\u001b[0m\u001b[1;32m     19\u001b[0m         \u001b[0;32melse\u001b[0m\u001b[0;34m:\u001b[0m\u001b[0;34m\u001b[0m\u001b[0;34m\u001b[0m\u001b[0m\n\u001b[1;32m     20\u001b[0m             \u001b[0mcollision\u001b[0m\u001b[0;34m,\u001b[0m \u001b[0mfinal\u001b[0m\u001b[0;34m,\u001b[0m \u001b[0mtime\u001b[0m \u001b[0;34m=\u001b[0m \u001b[0mgopi\u001b[0m\u001b[0;34m.\u001b[0m\u001b[0mbw\u001b[0m\u001b[0;34m(\u001b[0m\u001b[0;36m4\u001b[0m\u001b[0;34m)\u001b[0m\u001b[0;34m\u001b[0m\u001b[0;34m\u001b[0m\u001b[0m\n",
            "\u001b[0;32m/content/RobotMazeSetting.py\u001b[0m in \u001b[0;36mfw\u001b[0;34m(self, sec)\u001b[0m\n\u001b[1;32m    156\u001b[0m                                            round(old_y - math.cos((360-self.angle)/180*math.pi)*self.speed))\n\u001b[1;32m    157\u001b[0m \u001b[0;34m\u001b[0m\u001b[0m\n\u001b[0;32m--> 158\u001b[0;31m             \u001b[0mself\u001b[0m\u001b[0;34m.\u001b[0m\u001b[0mcheck_collison\u001b[0m\u001b[0;34m(\u001b[0m\u001b[0;34m)\u001b[0m\u001b[0;34m\u001b[0m\u001b[0;34m\u001b[0m\u001b[0m\n\u001b[0m\u001b[1;32m    159\u001b[0m             \u001b[0;32mif\u001b[0m \u001b[0mself\u001b[0m\u001b[0;34m.\u001b[0m\u001b[0mrun\u001b[0m \u001b[0;34m==\u001b[0m \u001b[0;32mFalse\u001b[0m\u001b[0;34m:\u001b[0m\u001b[0;34m\u001b[0m\u001b[0;34m\u001b[0m\u001b[0m\n\u001b[1;32m    160\u001b[0m                 \u001b[0mprint\u001b[0m\u001b[0;34m(\u001b[0m\u001b[0;34m\"Cannot move forward\"\u001b[0m\u001b[0;34m)\u001b[0m\u001b[0;34m\u001b[0m\u001b[0;34m\u001b[0m\u001b[0m\n",
            "\u001b[0;32m/content/RobotMazeSetting.py\u001b[0m in \u001b[0;36mcheck_collison\u001b[0;34m(self)\u001b[0m\n\u001b[1;32m    128\u001b[0m \u001b[0;34m\u001b[0m\u001b[0m\n\u001b[1;32m    129\u001b[0m                 \u001b[0mpygame\u001b[0m\u001b[0;34m.\u001b[0m\u001b[0mdisplay\u001b[0m\u001b[0;34m.\u001b[0m\u001b[0mflip\u001b[0m\u001b[0;34m(\u001b[0m\u001b[0;34m)\u001b[0m\u001b[0;34m\u001b[0m\u001b[0;34m\u001b[0m\u001b[0m\n\u001b[0;32m--> 130\u001b[0;31m                 \u001b[0mpygame\u001b[0m\u001b[0;34m.\u001b[0m\u001b[0mtime\u001b[0m\u001b[0;34m.\u001b[0m\u001b[0mClock\u001b[0m\u001b[0;34m(\u001b[0m\u001b[0;34m)\u001b[0m\u001b[0;34m.\u001b[0m\u001b[0mtick\u001b[0m\u001b[0;34m(\u001b[0m\u001b[0;36m40\u001b[0m\u001b[0;34m)\u001b[0m\u001b[0;34m\u001b[0m\u001b[0;34m\u001b[0m\u001b[0m\n\u001b[0m\u001b[1;32m    131\u001b[0m \u001b[0;34m\u001b[0m\u001b[0m\n\u001b[1;32m    132\u001b[0m         \u001b[0;32mreturn\u001b[0m\u001b[0;34m\u001b[0m\u001b[0;34m\u001b[0m\u001b[0m\n",
            "\u001b[0;31mKeyboardInterrupt\u001b[0m: "
          ]
        }
      ]
    },
    {
      "cell_type": "code",
      "metadata": {
        "id": "4I81R2VFQjXa"
      },
      "source": [
        "HTML(play_video.to_html5_video())"
      ],
      "execution_count": null,
      "outputs": []
    }
  ]
}